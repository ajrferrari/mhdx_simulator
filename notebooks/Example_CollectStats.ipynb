{
 "cells": [
  {
   "cell_type": "code",
   "execution_count": 1,
   "id": "834026e1",
   "metadata": {},
   "outputs": [],
   "source": [
    "import sys, glob, os\n",
    "\n",
    "sys.path.append(\"../\")"
   ]
  },
  {
   "cell_type": "code",
   "execution_count": 2,
   "id": "e380a188",
   "metadata": {},
   "outputs": [],
   "source": [
    "from src import mhdx_engine, mhdx_extract_stats"
   ]
  },
  {
   "cell_type": "code",
   "execution_count": 3,
   "id": "09fe8c41",
   "metadata": {},
   "outputs": [
    {
     "data": {
      "text/plain": [
       "['../../../HDX_analysis/Lib01/20220212_pH6',\n",
       " '../../../HDX_analysis/Lib04/20220131_pH6',\n",
       " '../../../HDX_analysis/Lib04/20220202_pH9',\n",
       " '../../../HDX_analysis/Lib05/20220125_pH6',\n",
       " '../../../HDX_analysis/Lib05/20220126_pH9',\n",
       " '../../../HDX_analysis/Lib06/20220302_pH6',\n",
       " '../../../HDX_analysis/Lib06/20220304_pH9',\n",
       " '../../../HDX_analysis/Lib07/20220217_pH6',\n",
       " '../../../HDX_analysis/Lib07/20220219_pH9',\n",
       " '../../../HDX_analysis/Lib08/20230508_pH6',\n",
       " '../../../HDX_analysis/Lib08/20230510_pH9',\n",
       " '../../../HDX_analysis/Lib09/20211227_pH6',\n",
       " '../../../HDX_analysis/Lib09/20211229_pH9',\n",
       " '../../../HDX_analysis/Lib10/20213112_pH6',\n",
       " '../../../HDX_analysis/Lib10/20220102_pH9',\n",
       " '../../../HDX_analysis/Lib11/20220113_pH6',\n",
       " '../../../HDX_analysis/Lib11/20220115_pH9',\n",
       " '../../../HDX_analysis/Lib12/20220117_pH6',\n",
       " '../../../HDX_analysis/Lib12/20220228_pH9',\n",
       " '../../../HDX_analysis/Lib13/20220110_pH6',\n",
       " '../../../HDX_analysis/Lib13/20220225_pH9',\n",
       " '../../../HDX_analysis/Lib14/20220104_pH6',\n",
       " '../../../HDX_analysis/Lib14/20220106_pH9',\n",
       " '../../../HDX_analysis/Lib15/20211223_pH9',\n",
       " '../../../HDX_analysis/Lib15/20211225_pH6']"
      ]
     },
     "execution_count": 3,
     "metadata": {},
     "output_type": "execute_result"
    }
   ],
   "source": [
    "dirs = sorted(glob.glob(\"../../../HDX_analysis/Lib*/*pH*\"))\n",
    "dirs"
   ]
  },
  {
   "cell_type": "code",
   "execution_count": null,
   "id": "3e1d20d4",
   "metadata": {},
   "outputs": [
    {
     "name": "stdout",
     "output_type": "stream",
     "text": [
      "[INFO] Variability results already present: ../datasets/variability_results/Lib01_pH6.stats.pkl\n",
      "[INFO] Variability results already present: ../datasets/variability_results/Lib04_pH6.stats.pkl\n",
      "[INFO] Variability results already present: ../datasets/variability_results/Lib04_pH9.stats.pkl\n",
      "[INFO] Variability results already present: ../datasets/variability_results/Lib05_pH6.stats.pkl\n",
      "[INFO] Variability results already present: ../datasets/variability_results/Lib05_pH9.stats.pkl\n",
      "[INFO] Variability results already present: ../datasets/variability_results/Lib06_pH6.stats.pkl\n",
      "[INFO] Variability results already present: ../datasets/variability_results/Lib06_pH9.stats.pkl\n",
      "[INFO] Lib07 pH6 967 files\n",
      "[INFO] Getting variability results ...\n"
     ]
    }
   ],
   "source": [
    "output_dir = '../datasets/variability_results'\n",
    "\n",
    "if not os.path.isdir(output_dir):\n",
    "    os.makedirs(output_dir)\n",
    "\n",
    "for d in dirs:\n",
    "    \n",
    "    library = d.split(\"/\")[-2]\n",
    "    ph = d.split(\"/\")[-1].split(\"_\")[-1]\n",
    "    \n",
    "\n",
    "    output_path = output_dir + \"/\" + f\"{library}_{ph}.stats.pkl\"\n",
    "    \n",
    "    if not os.path.isfile(output_path):\n",
    "    \n",
    "        fs = glob.glob(\n",
    "            d + \"/hdx_limit-pipeline/resources/10_ic_time_series/*/multibody/*_winner_multibody.df.pkl\"\n",
    "        )\n",
    "\n",
    "        print(f\"[INFO] {library} {ph} {len(fs)} files\")\n",
    "\n",
    "        print(f\"[INFO] Getting variability results ...\")\n",
    "\n",
    "        rt_avg_std_of_means, rt_avg_std_of_stds, rt_std_global_mean = mhdx_extract_stats.rt_variability_summary(fs)\n",
    "        dt_df, dt_map_pf = mhdx_extract_stats.collect_dt_mean_and_std_summary_per_file(fs, min_examples_per_file=3)\n",
    "        auc_mean, auc_std = mhdx_extract_stats.get_aucs_stats(fs)\n",
    "\n",
    "\n",
    "        # Save results\n",
    "        mhdx_extract_stats.save_variability_results(\n",
    "            output_path, \n",
    "            rt_avg_std_of_means, \n",
    "            rt_avg_std_of_stds,\n",
    "            rt_std_global_mean,\n",
    "            dt_df, \n",
    "            dt_map_pf,\n",
    "        auc_mean,\n",
    "        auc_std)\n",
    "\n",
    "\n",
    "        print(f\"[INFO] Variability results saved to {output_path}\")\n",
    "        \n",
    "    else:\n",
    "        \n",
    "        print(f\"[INFO] Variability results already present: {output_path}\")\n"
   ]
  },
  {
   "cell_type": "code",
   "execution_count": null,
   "id": "f1c4b169",
   "metadata": {},
   "outputs": [],
   "source": []
  }
 ],
 "metadata": {
  "kernelspec": {
   "display_name": "Python (ml-data-science-kernel-py310)",
   "language": "python",
   "name": "ml-data-science-kernel-py310"
  },
  "language_info": {
   "codemirror_mode": {
    "name": "ipython",
    "version": 3
   },
   "file_extension": ".py",
   "mimetype": "text/x-python",
   "name": "python",
   "nbconvert_exporter": "python",
   "pygments_lexer": "ipython3",
   "version": "3.10.13"
  }
 },
 "nbformat": 4,
 "nbformat_minor": 5
}
